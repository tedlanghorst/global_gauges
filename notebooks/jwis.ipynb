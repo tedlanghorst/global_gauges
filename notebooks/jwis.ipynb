{
 "cells": [
  {
   "cell_type": "code",
   "execution_count": 1,
   "id": "46138f46-296e-46c0-b67a-da42fd3cbeb0",
   "metadata": {},
   "outputs": [
    {
     "name": "stderr",
     "output_type": "stream",
     "text": [
      "/nas/cee-water/cjgleason/ted/global_gauges/.venv/lib/python3.12/site-packages/tqdm/auto.py:21: TqdmWarning: IProgress not found. Please update jupyter and ipywidgets. See https://ipywidgets.readthedocs.io/en/stable/user_install.html\n",
      "  from .autonotebook import tqdm as notebook_tqdm\n"
     ]
    }
   ],
   "source": [
    "import requests\n",
    "import pandas as pd\n",
    "from bs4 import BeautifulSoup\n",
    "from datetime import datetime\n",
    "from typing import List\n",
    "\n",
    "from tqdm.auto import tqdm\n",
    "\n",
    "\n",
    "def _generate_dates(start_year: int, end_year: int) -> List[str]:\n",
    "    \"\"\"Generate a list of YYYYMMDD strings for the first of each month between start and end year.\"\"\"\n",
    "    dates = []\n",
    "    for year in range(start_year, end_year + 1):\n",
    "        for month in range(1, 13):\n",
    "            dates.append(f\"{year}{month:02d}01\")\n",
    "    return dates\n",
    "\n",
    "\n",
    "def q_download(site_id: str, start_year: int, end_year: int) -> pd.DataFrame:\n",
    "    base_url = \"http://www1.river.go.jp/cgi-bin/DspWaterData.exe?KIND=6&ID=\"\n",
    "    end_date = f\"{end_year}1231\"\n",
    "    dates = _generate_dates(start_year, end_year)\n",
    "\n",
    "    all_data = []\n",
    "\n",
    "    for date in tqdm(dates):\n",
    "        url = f\"{base_url}{site_id}&BGNDATE={date}&ENDDATE={end_date}\"\n",
    "        try:\n",
    "            response = requests.get(url, timeout=10)\n",
    "            response.encoding = \"euc-jp\"\n",
    "            response.raise_for_status()\n",
    "            soup = BeautifulSoup(response.text, \"html.parser\")\n",
    "            table = soup.find(\"table\")\n",
    "            if table is None:\n",
    "                continue\n",
    "\n",
    "            df = pd.read_html(StringIO(str(table)))[0]\n",
    "            if len(df)>2:\n",
    "                print(df)\n",
    "                return df\n",
    "            # df = pd.read_html(str(table))[0]\n",
    "            # df = df.iloc[4:]  # Skip the header rows\n",
    "            # df.columns = ['Date'] + [f'Col{i}' for i in range(1, df.shape[1])]\n",
    "            # df['Date'] = pd.to_datetime(df['Date'], format=\"%Y/%m/%d\", errors='coerce')\n",
    "            # df_numeric = df.drop(columns=['Date']).apply(pd.to_numeric, errors='coerce')\n",
    "            # df['Q'] = df_numeric.mean(axis=1, skipna=True)\n",
    "            # all_data.append(df[['Date', 'Q']])\n",
    "        except Exception:\n",
    "            continue\n",
    "\n",
    "    if not all_data:\n",
    "        return pd.DataFrame(columns=[\"Date\", \"Q\"])\n",
    "\n",
    "    result = pd.concat(all_data).dropna(subset=[\"Q\"])\n",
    "    result = result.sort_values(\"Date\").reset_index(drop=True)\n",
    "    result[\"date\"] = result[\"Date\"].dt.strftime(\"%Y-%m-%d\")\n",
    "\n",
    "    return result[[\"Q\", \"Date\", \"date\"]]\n"
   ]
  },
  {
   "cell_type": "code",
   "execution_count": 2,
   "id": "6485ca08-cd17-4027-8de3-3101fbecf0e2",
   "metadata": {},
   "outputs": [
    {
     "name": "stderr",
     "output_type": "stream",
     "text": [
      "  2%|▏         | 16/912 [00:22<20:39,  1.38s/it]\n",
      "Exception ignored in: <bound method IPythonKernel._clean_thread_parent_frames of <ipykernel.ipkernel.IPythonKernel object at 0x7d5c103d5910>>\n",
      "Traceback (most recent call last):\n",
      "  File \"/nas/cee-water/cjgleason/ted/global_gauges/.venv/lib/python3.12/site-packages/ipykernel/ipkernel.py\", line 775, in _clean_thread_parent_frames\n",
      "KeyboardInterrupt: \n",
      "\n",
      "KeyboardInterrupt\n",
      "\n"
     ]
    }
   ],
   "source": [
    "table = q_download('103031283303060', 1950, 2025)"
   ]
  },
  {
   "cell_type": "code",
   "execution_count": null,
   "id": "a99f7311-ded2-4453-95a7-fe26f9b19acd",
   "metadata": {},
   "outputs": [],
   "source": []
  },
  {
   "cell_type": "code",
   "execution_count": null,
   "id": "cda5c877-e2a5-4426-9d3c-e66bb118ef55",
   "metadata": {},
   "outputs": [],
   "source": [
    "from io import StringIO\n",
    "\n",
    "df = pd.read_html(StringIO(str(table)))[0]\n",
    "\n",
    "\n",
    "df"
   ]
  },
  {
   "cell_type": "code",
   "execution_count": null,
   "id": "8513f0bc-048b-4c09-b098-eb744e18f69f",
   "metadata": {},
   "outputs": [],
   "source": [
    "len(df)"
   ]
  },
  {
   "cell_type": "code",
   "execution_count": 11,
   "id": "281d625a-b414-4976-99a6-effa7b5056a3",
   "metadata": {},
   "outputs": [],
   "source": [
    "import pandas as pd\n",
    "site_id = '303031283303010'\n",
    "start_date = pd.Timestamp(1950,1,1).strftime(\"%Y%m%d\")\n",
    "end_date = pd.Timestamp(1950,2,1).strftime(\"%Y%m%d\")\n",
    "\n",
    "base_url = \"http://www1.river.go.jp/cgi-bin/DspWaterData.exe\"\n",
    "params = {\n",
    "    \"KIND\": 6,\n",
    "    \"ID\": site_id,\n",
    "    \"BGNDATE\": start_date,\n",
    "    \"ENDDATE\": end_date\n",
    "}\n",
    "\n",
    "r = requests.get(base_url, params)\n",
    "r.encoding = \"euc-jp\""
   ]
  },
  {
   "cell_type": "code",
   "execution_count": 4,
   "id": "2585494b-2552-46c1-b90c-4a69e027032b",
   "metadata": {},
   "outputs": [
    {
     "data": {
      "text/plain": [
       "'http://www1.river.go.jp/cgi-bin/DspWaterData.exe?KIND=6&ID=103031283303060&BGNDATE=19500101&ENDDATE=20250101'"
      ]
     },
     "execution_count": 4,
     "metadata": {},
     "output_type": "execute_result"
    }
   ],
   "source": [
    "r.url"
   ]
  },
  {
   "cell_type": "code",
   "execution_count": 14,
   "id": "b6e628c8-ec3f-4808-aecf-e7420197d5be",
   "metadata": {},
   "outputs": [
    {
     "data": {
      "text/plain": [
       "<table border=\"1\" cellpadding=\"2\" cellspacing=\"1\">\n",
       "<tr>\n",
       "<td align=\"CENTER\" bgcolor=\"#33FFFF\" nowrap=\"\"><b><font size=\"-1\">観測所記号</font></b></td>\n",
       "<td align=\"CENTER\" bgcolor=\"#33FFFF\" nowrap=\"\"><b><font size=\"-1\">観測所名</font></b></td>\n",
       "<td align=\"CENTER\" bgcolor=\"#33FFFF\" nowrap=\"\"><b><font size=\"-1\">水系名</font></b></td>\n",
       "<td align=\"CENTER\" bgcolor=\"#33FFFF\" nowrap=\"\"><b><font size=\"-1\">河川名</font></b></td>\n",
       "</tr>\n",
       "<tr>\n",
       "<td align=\"CENTER\" bgcolor=\"#FFFFF0\" nowrap=\"\" width=\"20%\"><b><font size=\"-1\">303031283303010</font></b></td>\n",
       "<td align=\"CENTER\" bgcolor=\"#FFFFF0\" nowrap=\"\" width=\"30%\"><b><font size=\"-1\">木原（きはら）</font></b></td>\n",
       "<td align=\"CENTER\" bgcolor=\"#FFFFF0\" nowrap=\"\" width=\"25%\"><b><font size=\"-1\">利根川</font></b></td>\n",
       "<td align=\"CENTER\" bgcolor=\"#FFFFF0\" nowrap=\"\" width=\"25%\"><b><font size=\"-1\">霞ヶ浦</font></b></td>\n",
       "</tr>\n",
       "</table>"
      ]
     },
     "execution_count": 14,
     "metadata": {},
     "output_type": "execute_result"
    }
   ],
   "source": [
    "soup = BeautifulSoup(r.text, \"html.parser\")\n",
    "table = soup.find(\"table\")\n",
    "table"
   ]
  },
  {
   "cell_type": "code",
   "execution_count": null,
   "id": "96268e2e-af79-43ca-925e-6895cee0daf5",
   "metadata": {},
   "outputs": [],
   "source": [
    "type(table)"
   ]
  },
  {
   "cell_type": "code",
   "execution_count": null,
   "id": "a205e261-ccc8-46ab-b0c3-5b0ee6e3223c",
   "metadata": {},
   "outputs": [],
   "source": [
    "table"
   ]
  },
  {
   "cell_type": "code",
   "execution_count": 17,
   "id": "067ad64e-c94b-43b9-aeac-b48516f42607",
   "metadata": {},
   "outputs": [],
   "source": [
    "soup.keys"
   ]
  },
  {
   "cell_type": "code",
   "execution_count": 18,
   "id": "0d3ae623-0d06-4142-9405-682d08ea51ea",
   "metadata": {},
   "outputs": [
    {
     "name": "stdout",
     "output_type": "stream",
     "text": [
      "/dat/dload/download/26303031283303010195001011367161.dat\n",
      "/cgi-bin/DspWaterGraph.exe?KIND=6&ID=303031283303010&BGNDATE=19500101&ENDDATE=19500201&PID=1367161\n"
     ]
    }
   ],
   "source": [
    "for link in soup.find_all('a'):\n",
    "    print(link.get('href'))"
   ]
  },
  {
   "cell_type": "code",
   "execution_count": null,
   "id": "20d3de7c-766c-4806-8e85-f5024c47fb4b",
   "metadata": {},
   "outputs": [],
   "source": []
  },
  {
   "cell_type": "code",
   "execution_count": null,
   "id": "835221e1-d887-4e34-85d8-26df44371900",
   "metadata": {},
   "outputs": [],
   "source": []
  },
  {
   "cell_type": "code",
   "execution_count": null,
   "id": "aaaf50c6-c710-44d5-b636-330422c91951",
   "metadata": {},
   "outputs": [],
   "source": [
    "from urllib.request import urlopen\n",
    "from urllib.parse import urlencode"
   ]
  },
  {
   "cell_type": "code",
   "execution_count": 19,
   "id": "806ee878-8198-4077-994d-cb3bb79e71a1",
   "metadata": {},
   "outputs": [],
   "source": [
    "import datetime\n",
    "import pandas as pd\n",
    "\n",
    "\n",
    "class JWIS:\n",
    "    def __init__(self, obs_type, obs_id, date_begin, date_end, kawabou):\n",
    "        self.obs_type = obs_type\n",
    "        self.obs_id = obs_id\n",
    "        self.date_begin = date_begin\n",
    "        self.date_end = date_end\n",
    "        self.kawabou = kawabou\n",
    "        if obs_type == 1:\n",
    "            self.view_url = \"http://www1.river.go.jp/cgi-bin/DspWaterData.exe\"\n",
    "        elif obs_type == 2:\n",
    "            self.view_url = \"http://www1.river.go.jp/cgi-bin/DspDamData.exe\"\n",
    "\n",
    "    def kind_name(self, kind):\n",
    "        if kind == '1':\n",
    "            return 'H'\n",
    "        elif kind == '5':\n",
    "            return 'Q'\n",
    "        else:\n",
    "            return 'X'\n",
    "\n",
    "    def retrieve_data(self, kind):\n",
    "        columns = [\"Date\", \"Time\"]\n",
    "        if self.obs_type == 1:  # flow rate & height\n",
    "            kn = self.kind_name(kind)\n",
    "            columns.extend([kn, \"Flag_\" + kn])\n",
    "            n_comma = 3\n",
    "        elif self.obs_type == 2:  # dam\n",
    "            columns.extend([\n",
    "                \"Ave. Precip. (mm/h)\", \"Flag_P\", \"Water storage (10^3 m3)\",\n",
    "                \"Flag_WS\", \"Input (m3/s)\", \"Flag_I\", \"Output (m3/s)\", \"Flag_O\",\n",
    "                \"Water storage (%)\", \"Flag_WSP\"\n",
    "            ])\n",
    "            n_comma = 11\n",
    "        data = pd.DataFrame(columns=columns)\n",
    "\n",
    "        url_params_dict = {\n",
    "            \"KIND\": kind,\n",
    "            \"ID\": self.obs_id,\n",
    "            \"KAWABOU\": self.kawabou\n",
    "        }\n",
    "\n",
    "\n",
    "        d = self.date_begin\n",
    "        while d <= self.date_end:\n",
    "            date_delta = min(datetime.timedelta(days=30), self.date_end - d)\n",
    "            d1 = d + date_delta\n",
    "            url_params_dict[\"BGNDATE\"] = d.strftime(\"%Y%m%d\")\n",
    "            url_params_dict[\"ENDDATE\"] = d1.strftime(\"%Y%m%d\")\n",
    "\n",
    "\n",
    "            return self.view_url, url_params_dict\n",
    "        #     url_params = urlencode(url_params_dict)\n",
    "        #     view_uri = self.view_url + '?' + url_params\n",
    "        #     f = urlopen(view_uri)\n",
    "\n",
    "        #     parser = JWISParser()\n",
    "        #     parser.feed(f.read().decode(\"euc-jp\"))\n",
    "        #     parser.close()\n",
    "\n",
    "        #     data_list = []\n",
    "        #     # with urlopen(parser.data_url) as data_file:\n",
    "        #     data_file = urlopen(parser.data_url)\n",
    "        #     for line in data_file:\n",
    "        #         line = line.decode(\"Shift_JIS\")\n",
    "        #         if line.count(',') == n_comma and not line.startswith('#'):\n",
    "        #             data_list.append(line.rstrip(\"\\r\\n\").split(','))\n",
    "\n",
    "        #     data = data.append(pd.DataFrame(data_list, columns=columns))\n",
    "        #     d = d1 + datetime.timedelta(days=1)\n",
    "        # return data\n",
    "\n",
    "    def retrieve_hq_data(self):\n",
    "        h_data = self.retrieve_data('1')\n",
    "        q_data = self.retrieve_data('5')\n",
    "        # hq_data = pd.merge(h_data, q_data, on=[\"Date\", \"Time\"], how=\"outer\")\n",
    "        return h_data, q_data\n"
   ]
  },
  {
   "cell_type": "code",
   "execution_count": 30,
   "id": "f04c6da9-85a9-4c44-a26b-91e432ac7e8c",
   "metadata": {},
   "outputs": [
    {
     "name": "stdout",
     "output_type": "stream",
     "text": [
      "Beginning date\n"
     ]
    },
    {
     "name": "stdin",
     "output_type": "stream",
     "text": [
      "    year?  2010\n",
      "    month?  1\n",
      "    date?  1\n"
     ]
    },
    {
     "name": "stdout",
     "output_type": "stream",
     "text": [
      "Final date\n"
     ]
    },
    {
     "name": "stdin",
     "output_type": "stream",
     "text": [
      "    year?  2010\n",
      "    month?  2\n",
      "    date?  1\n"
     ]
    }
   ],
   "source": [
    "from datetime import date\n",
    "def ask_date():\n",
    "    print(\"Beginning date\")\n",
    "    d_start_year = int(input(\"    year? \"))\n",
    "    d_start_month = int(input(\"    month? \"))\n",
    "    d_start_date = int(input(\"    date? \"))\n",
    "    d_start = date(d_start_year, d_start_month, d_start_date)\n",
    "\n",
    "    print(\"Final date\")\n",
    "    d_end_year = int(input(\"    year? \"))\n",
    "    d_end_month = int(input(\"    month? \"))\n",
    "    d_end_date = int(input(\"    date? \"))\n",
    "    d_end = date(d_end_year, d_end_month, d_end_date)\n",
    "\n",
    "    return (d_start, d_end)\n",
    "\n",
    "d_start, d_end = ask_date()"
   ]
  },
  {
   "cell_type": "code",
   "execution_count": 38,
   "id": "a2b43e02-5a0a-4e8e-b5ad-2eb13afbbe5b",
   "metadata": {},
   "outputs": [],
   "source": [
    "j = JWIS(1, '306041286608100', d_start, d_end, \"NO\")\n",
    "(h_url, h_params),(q_url, q_params) = j.retrieve_hq_data()"
   ]
  },
  {
   "cell_type": "code",
   "execution_count": 39,
   "id": "8a78bbd0-4b5f-480b-8a3f-d23d9d26de13",
   "metadata": {},
   "outputs": [
    {
     "data": {
      "text/plain": [
       "'<HTML>\\n<HEAD>\\n<META http-equiv=\"Content-Type\" content=\"text/html; charset=EUC-JP\">\\n<META http-equiv=\"Content-Style-Type\" content=\"text/css\">\\n<TITLE>任意期間時刻流量一覧表</TITLE>\\n</HEAD>\\n<BODY bgcolor=\"#ffffff\">\\n<CENTER>\\n<TABLE BORDER=\"1\" CELLPADDING=\"2\" CELLSPACING=\"1\">\\n  \\n    <TR>\\n      <TD NOWRAP BGCOLOR=\"#33FFFF\" ALIGN=\"CENTER\"><B><FONT SIZE=-1>観測所記号</FONT></B></TD>\\n      <TD NOWRAP BGCOLOR=\"#33FFFF\" ALIGN=\"CENTER\"><B><FONT SIZE=-1>観測所名</FONT></B></TD>\\n      <TD NOWRAP BGCOLOR=\"#33FFFF\" ALIGN=\"CENTER\"><B><FONT SIZE=-1>水系名</FONT></B></TD>\\n      <TD NOWRAP BGCOLOR=\"#33FFFF\" ALIGN=\"CENTER\"><B><FONT SIZE=-1>河川名</FONT></B></TD>\\n    </TR>\\n    <TR>\\n      <TD WIDTH=\"20%\"  NOWRAP BGCOLOR=\"#FFFFF0\" ALIGN=\"CENTER\"><B><FONT SIZE=-1>306041286608100</FONT></B></TD>\\n      <TD WIDTH=\"30%\"  NOWRAP BGCOLOR=\"#FFFFF0\" ALIGN=\"CENTER\"><B><FONT SIZE=-1>戸ノ内（とのうち）</FONT></B></TD>\\n      <TD WIDTH=\"25%\"  NOWRAP BGCOLOR=\"#FFFFF0\" ALIGN=\"CENTER\"><B><FONT SIZE=-1>淀川</FONT></B></TD>\\n      <TD WIDTH=\"25%\" NOWRAP BGCOLOR=\"#FFFFF0\" ALIGN=\"CENTER\"><B><FONT SIZE=-1>猪名川</FONT></B></TD>\\n    </TR>\\n  \\n</TABLE>\\n<BR>\\n<P align=\"center\"><FONT size=\"+2\">任意期間時刻流量一覧表</FONT>\\n<A href=\"/dat/dload/download/25306041286608100201001011367714.dat\" TARGET=\"_blank\"><IMG src=\"/img/download.gif\" BORDER=\"0\"></A>\\n<A href=\"/cgi-bin/DspWaterGraph.exe?ID=306041286608100&KIND=5&BGNDATE=20100101&ENDDATE=20100131&PID=1367714\" TARGET=\"_blank\"><IMG src=\"/img/graph.png\" BORDER=\"0\"></A></P>\\n</CENTER>\\n<CENTER>\\n<TABLE BORDER=\"0\" width=\"500\">\\n  <TBODY>\\n    <TR><TD ALIGN=\"center\">\\n      <TABLE BORDER=\"0\" cellpadding=\"0\" cellspacing=\"0\" width=\"320\">\\n        <TR>\\n          <TH align=\"left\" height=\"10\" width=\"70\">年月日</TH>\\n          <TH align=\"left\" height=\"10\" width=\"50\">\\u3000\\u3000時刻</TH>\\n          <TH align=\"left\" height=\"10\" width=\"60\">\\u3000\\u3000流量(m<SUP>3</SUP>/s)</TH>\\n        </TD></TR>\\n      </TABLE>\\n    </TD></TR>\\n  </TBODY>\\n  <TBODY>\\n    <TR>\\n      <TD valign=\"top\" width=\"75%\" height=\"460\"><IFRAME src=\"/html/frm/WaterFreeData202506190310361367714.html\" scrolling=\"AUTO\" marginwidth=\"0\" marginheight=\"0\" width=\"100%\" height=\"100%\" frameborder=\"0\" align=\"right\"></IFRAME></TD>\\n      <TD valign=\"top\" height=\"460\">\\n      </TD>\\n    </TR>\\n  </TBODY>\\n</TABLE>\\n</CENTER>\\n</BODY>\\n</HTML>\\n'"
      ]
     },
     "execution_count": 39,
     "metadata": {},
     "output_type": "execute_result"
    }
   ],
   "source": [
    "import requests\n",
    "r = requests.get(q_url,q_params)\n",
    "r.encoding = \"euc-jp\"\n",
    "r.text"
   ]
  },
  {
   "cell_type": "code",
   "execution_count": 40,
   "id": "84eaf889-211b-4b44-8bbb-ad3213f0ccde",
   "metadata": {},
   "outputs": [
    {
     "data": {
      "text/plain": [
       "'http://www1.river.go.jp/cgi-bin/DspWaterData.exe?KIND=5&ID=306041286608100&KAWABOU=NO&BGNDATE=20100101&ENDDATE=20100131'"
      ]
     },
     "execution_count": 40,
     "metadata": {},
     "output_type": "execute_result"
    }
   ],
   "source": [
    "r.url"
   ]
  },
  {
   "cell_type": "code",
   "execution_count": 33,
   "id": "adb5cebb-62af-41fd-a5f2-c49140793a16",
   "metadata": {},
   "outputs": [
    {
     "data": {
      "text/plain": [
       "'http://www1.river.go.jp/dat/dload/download/25103031283303060201001011367396.dat'"
      ]
     },
     "execution_count": 33,
     "metadata": {},
     "output_type": "execute_result"
    }
   ],
   "source": [
    "parser = JWISParser()\n",
    "parser.feed(r.text)\n",
    "parser.close()\n",
    "parser.data_url"
   ]
  },
  {
   "cell_type": "code",
   "execution_count": null,
   "id": "bb694472-65cc-473b-8611-c03cc6c5f158",
   "metadata": {},
   "outputs": [],
   "source": [
    "n_comma = 3"
   ]
  },
  {
   "cell_type": "code",
   "execution_count": null,
   "id": "3ed8ec64-0f05-4d7a-8307-db6359fa9fd0",
   "metadata": {},
   "outputs": [],
   "source": [
    "data_list = []\n",
    "# with urlopen(parser.data_url) as data_file:\n",
    "data_file = urlopen(parser.data_url)\n",
    "for line in data_file:\n",
    "    line = line.decode(\"Shift_JIS\")\n",
    "    print(line)\n",
    "    if line.count(',') == n_comma and not line.startswith('#'):\n",
    "        data_list.append(line.rstrip(\"\\r\\n\").split(','))\n",
    "        break\n",
    "\n",
    "# data = data.append(pd.DataFrame(data_list, columns=columns))\n",
    "# d = d1 + datetime.timedelta(days=1)"
   ]
  },
  {
   "cell_type": "code",
   "execution_count": null,
   "id": "34744c8e-1f55-4d5d-94d8-81cf626d2155",
   "metadata": {},
   "outputs": [],
   "source": [
    "data_list"
   ]
  },
  {
   "cell_type": "code",
   "execution_count": 25,
   "id": "6f9852aa-5a00-4b05-9615-eada28d0b448",
   "metadata": {},
   "outputs": [],
   "source": [
    "from html.parser import HTMLParser\n",
    "\n",
    "class JWISParser(HTMLParser):\n",
    "    def __init__(self):\n",
    "        super().__init__()\n",
    "        self.host = \"http://www1.river.go.jp\"\n",
    "        self.data_url = None\n",
    "    \n",
    "    def handle_starttag(self, tag, attrs):\n",
    "        if tag == 'a':\n",
    "            attrs_dict = dict(attrs)\n",
    "            url = attrs_dict.get(\"href\", \"\")\n",
    "            if url.startswith(\"/dat/dload/download\"):\n",
    "                self.data_url = self.host + url\n",
    "\n",
    "parser = JWISParser()"
   ]
  },
  {
   "cell_type": "code",
   "execution_count": null,
   "id": "91fcc20c-29d7-48f8-9120-7b594ea01b55",
   "metadata": {},
   "outputs": [],
   "source": [
    "import requests\n",
    "\n",
    "import pandas as pd\n",
    "\n",
    "site_id = '6243235'\n",
    "start = pd.Timestamp(2010,1,1)\n",
    "end = pd.Timestamp(2011,1,1)\n",
    "\n",
    "view_url = \"http://www1.river.go.jp/cgi-bin/DspWaterData.exe\"\n",
    "params = {\n",
    "    \"KIND\": \"Q\",  # Flow rate\n",
    "    \"ID\": site_id,\n",
    "    \"KAWABOU\": \"NO\",\n",
    "    \"BGNDATE\": start.strftime(\"%Y%m%d\"),\n",
    "    \"ENDDATE\": end.strftime(\"%Y%m%d\")\n",
    "}\n",
    "\n",
    "# Build URL and get HTML page\n",
    "param_str = \"&\".join(f\"{k}={v}\" for k, v in params.items())\n",
    "view_uri = f\"{view_url}?{param_str}\""
   ]
  },
  {
   "cell_type": "code",
   "execution_count": null,
   "id": "f9192642-f2ba-499d-b245-bb81b3f5ef03",
   "metadata": {},
   "outputs": [],
   "source": [
    "view_uri"
   ]
  },
  {
   "cell_type": "code",
   "execution_count": null,
   "id": "1013b172-d898-4197-bbbf-8946bd316b13",
   "metadata": {},
   "outputs": [],
   "source": [
    "r = requests.get(view_url, params)\n",
    "r.encoding = \"euc-jp\""
   ]
  },
  {
   "cell_type": "code",
   "execution_count": null,
   "id": "ce501847-179f-4385-827d-9fb6582c1e24",
   "metadata": {},
   "outputs": [],
   "source": [
    "r.text[:1000]"
   ]
  },
  {
   "cell_type": "code",
   "execution_count": null,
   "id": "4c816037-55fe-45a4-a925-b886a9840369",
   "metadata": {},
   "outputs": [],
   "source": [
    "html_content = r.text\n",
    "parser.feed(html_content)"
   ]
  },
  {
   "cell_type": "code",
   "execution_count": null,
   "id": "8f7745c6-2766-45be-b103-62963cef5445",
   "metadata": {},
   "outputs": [],
   "source": [
    "parser.data_url"
   ]
  },
  {
   "cell_type": "code",
   "execution_count": null,
   "id": "25da48d5-3ad9-42c2-ada5-e409244960cd",
   "metadata": {},
   "outputs": [],
   "source": []
  }
 ],
 "metadata": {
  "kernelspec": {
   "display_name": "Python (global_gauges)",
   "language": "python",
   "name": ".venv"
  },
  "language_info": {
   "codemirror_mode": {
    "name": "ipython",
    "version": 3
   },
   "file_extension": ".py",
   "mimetype": "text/x-python",
   "name": "python",
   "nbconvert_exporter": "python",
   "pygments_lexer": "ipython3",
   "version": "3.12.2"
  }
 },
 "nbformat": 4,
 "nbformat_minor": 5
}
