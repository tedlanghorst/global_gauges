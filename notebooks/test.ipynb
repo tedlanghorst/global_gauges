{
 "cells": [
  {
   "cell_type": "code",
   "execution_count": 5,
   "id": "bf544769-f3b2-4731-a5ad-64318f7a1272",
   "metadata": {},
   "outputs": [
    {
     "name": "stdout",
     "output_type": "stream",
     "text": [
      "/nas/cee-water/cjgleason/ted/global_gauges/.venv/bin/python: No module named uv\n",
      "Note: you may need to restart the kernel to use updated packages.\n"
     ]
    }
   ],
   "source": []
  },
  {
   "cell_type": "code",
   "execution_count": 1,
   "id": "a0123594-ea0a-4dc0-a72a-0facd60e91ba",
   "metadata": {},
   "outputs": [],
   "source": [
    "import global_gauges as gg"
   ]
  },
  {
   "cell_type": "code",
   "execution_count": null,
   "id": "1573bf38-abf4-48fe-ac5d-c83f545d8de1",
   "metadata": {},
   "outputs": [],
   "source": [
    "f = gg.GaugeDataFacade()\n",
    "print(f)"
   ]
  },
  {
   "cell_type": "code",
   "execution_count": null,
   "id": "dcb76aa2-17d4-4ba9-92a1-e8e3d78ab3f5",
   "metadata": {},
   "outputs": [],
   "source": [
    "gdf = f.get_station_info()\n",
    "gdf"
   ]
  },
  {
   "cell_type": "code",
   "execution_count": null,
   "id": "54a7eb35-d1b1-4a20-bddb-17c8fbf65140",
   "metadata": {},
   "outputs": [],
   "source": [
    "df = f.get_daily_values('USGS-04024318')\n",
    "df"
   ]
  },
  {
   "cell_type": "code",
   "execution_count": null,
   "id": "f4b52513-ff60-4755-a2d6-6071cb15f6fb",
   "metadata": {},
   "outputs": [],
   "source": []
  },
  {
   "cell_type": "code",
   "execution_count": null,
   "id": "2761a557-a19f-450d-930b-4bf0468fe7e5",
   "metadata": {},
   "outputs": [],
   "source": [
    "._download_daily_values("
   ]
  }
 ],
 "metadata": {
  "kernelspec": {
   "display_name": "Python (global_gauges)",
   "language": "python",
   "name": ".venv"
  },
  "language_info": {
   "codemirror_mode": {
    "name": "ipython",
    "version": 3
   },
   "file_extension": ".py",
   "mimetype": "text/x-python",
   "name": "python",
   "nbconvert_exporter": "python",
   "pygments_lexer": "ipython3",
   "version": "3.12.2"
  }
 },
 "nbformat": 4,
 "nbformat_minor": 5
}
